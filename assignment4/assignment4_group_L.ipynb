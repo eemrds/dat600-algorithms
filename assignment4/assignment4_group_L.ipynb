{
 "cells": [
  {
   "cell_type": "code",
   "execution_count": 17,
   "metadata": {},
   "outputs": [],
   "source": [
    "import matplotlib.pyplot as plt\n",
    "import numpy as np\n",
    "from pyswarm import pso\n",
    "from scipy.optimize import linprog"
   ]
  },
  {
   "cell_type": "markdown",
   "metadata": {},
   "source": [
    "```python\n",
    "linprog(\n",
    "    c: Any, \n",
    "    A_ub: Any | None = None, \n",
    "    b_ub: Any | None = None, \n",
    "    A_eq: Any | None = None, \n",
    "    b_eq: Any | None = None, \n",
    "    bounds: Any | None = None, \n",
    "    method: str = 'highs', \n",
    "    callback: Any | None = None, \n",
    "    options: Any | None = None, \n",
    "    x0: Any | None = None, \n",
    "    integrality: Any | None = None\n",
    ") -> OptimizeResult\n",
    "```\n",
    "\n",
    "constraints: X >= 10 per week,\n",
    "\n",
    "machine-time: 100\n",
    "craftsman-time: 20\n",
    "production capacity: 40 hours of machine time and 35 hours of craftsman\n",
    "\n",
    "constraints:\n",
    "$$c_1: \\frac{15}{60}x + \\frac{20}{60}y \\leq 40$$\n",
    "$$c_2: \\frac{20}{60}x + \\frac{30}{60}y \\leq 35$$\n",
    "$$c_3: x \\geq 10$$\n",
    "$$c_4: x, y \\geq 0$$\n",
    "\n",
    "\n",
    "revenues:\n",
    "$$200 - (\\frac{15}{60}*100 + \\frac{20}{60}*20)$$\n",
    "$$300 - (\\frac{20}{60}*100 + \\frac{30}{60}*20)$$\n",
    "\n",
    "\n",
    "\n",
    "\n"
   ]
  },
  {
   "cell_type": "code",
   "execution_count": 26,
   "metadata": {},
   "outputs": [
    {
     "data": {
      "text/plain": [
       "        message: Optimization terminated successfully. (HiGHS Status 7: Optimal)\n",
       "        success: True\n",
       "         status: 0\n",
       "            fun: -17938.88888888889\n",
       "              x: [ 1.000e+01  6.333e+01]\n",
       "            nit: 1\n",
       "          lower:  residual: [ 0.000e+00  6.333e+01]\n",
       "                 marginals: [ 2.778e+00  0.000e+00]\n",
       "          upper:  residual: [       inf        inf]\n",
       "                 marginals: [ 0.000e+00  0.000e+00]\n",
       "          eqlin:  residual: []\n",
       "                 marginals: []\n",
       "        ineqlin:  residual: [ 1.639e+01  0.000e+00]\n",
       "                 marginals: [-0.000e+00 -5.133e+02]\n",
       " mip_node_count: 0\n",
       " mip_dual_bound: 0.0\n",
       "        mip_gap: 0.0"
      ]
     },
     "execution_count": 26,
     "metadata": {},
     "output_type": "execute_result"
    }
   ],
   "source": [
    "x = {\n",
    "    \"machine_time\": 15,\n",
    "    \"craftsman_time\": 20,\n",
    "    \"revenue\": 200,\n",
    "    \"machine_cost\": 15 / 60 * 100,\n",
    "    \"craftsman_cost\": 20 / 60 * 20,\n",
    "    \"constraint_units\": 10,\n",
    "}\n",
    "\n",
    "y = {\n",
    "    \"machine_time\": 20,\n",
    "    \"craftsman_time\": 30,\n",
    "    \"revenue\": 300,\n",
    "    \"machine_cost\": 20 / 60 * 100,\n",
    "    \"craftsman_cost\": 30 / 60 * 20,\n",
    "    \"constraint_units\": 0,\n",
    "}\n",
    "\n",
    "machine_time_constraint = 40\n",
    "craftsman_time_constraint = 35\n",
    "\n",
    "c = [\n",
    "    -(x[\"revenue\"] - (x[\"machine_cost\"] + x[\"craftsman_cost\"])),\n",
    "    -(y[\"revenue\"] - (y[\"machine_cost\"] + y[\"craftsman_cost\"])),\n",
    "]\n",
    "\n",
    "bounds = [(x[\"constraint_units\"], None), (y[\"constraint_units\"], None)]\n",
    "A_ub = [\n",
    "    [x[\"machine_time\"] / 60, y[\"machine_time\"] / 60],\n",
    "    [x[\"craftsman_time\"] / 60, y[\"craftsman_time\"] / 60],\n",
    "]\n",
    "b_ub = [machine_time_constraint, craftsman_time_constraint]\n",
    "\n",
    "\n",
    "linprog(c, bounds=bounds, A_ub=A_ub, b_ub=b_ub)"
   ]
  },
  {
   "cell_type": "code",
   "execution_count": null,
   "metadata": {},
   "outputs": [],
   "source": [
    "\n",
    "\n",
    "vs = {\n",
    "    \"v1\": 21+3,\n",
    "    \"v2\": 13+7,\n",
    "    \"v3\": 6+15,\n",
    "    \"v4\": 20+10,\n",
    "    \"v5\": 5+10,\n",
    "    \"vx\": 3,\n",
    "}\n",
    "\n"
   ]
  }
 ],
 "metadata": {
  "kernelspec": {
   "display_name": "ml",
   "language": "python",
   "name": "python3"
  },
  "language_info": {
   "codemirror_mode": {
    "name": "ipython",
    "version": 3
   },
   "file_extension": ".py",
   "mimetype": "text/x-python",
   "name": "python",
   "nbconvert_exporter": "python",
   "pygments_lexer": "ipython3",
   "version": "3.11.7"
  }
 },
 "nbformat": 4,
 "nbformat_minor": 2
}
