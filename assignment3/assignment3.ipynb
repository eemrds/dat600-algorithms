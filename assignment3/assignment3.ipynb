{
 "cells": [
  {
   "cell_type": "markdown",
   "metadata": {},
   "source": [
    "# Assignment 3\n",
    "\n",
    "**Martin, Erik : 250660**  \n",
    "**Seim, Håvard : 260699**  \n",
    "**Group: L**  "
   ]
  },
  {
   "cell_type": "code",
   "execution_count": 99,
   "metadata": {},
   "outputs": [],
   "source": [
    "import matplotlib.pyplot as plt\n",
    "import numpy as np\n",
    "import networkx as nx"
   ]
  },
  {
   "cell_type": "markdown",
   "metadata": {},
   "source": [
    "# 1. Problem Basic Graph"
   ]
  },
  {
   "cell_type": "code",
   "execution_count": 31,
   "metadata": {},
   "outputs": [],
   "source": [
    "#       1  2  3  4  5  6\n",
    "Adj = [[0, 1, 0, 0, 0, 0], # 1\n",
    "       [0, 1, 1, 1, 0, 0], # 2\n",
    "       [1, 1, 0 ,0, 1, 0], # 3\n",
    "       [0, 0, 0, 0, 1, 1], # 4\n",
    "       [0, 0, 1, 1, 0, 0], # 5\n",
    "       [0, 0, 0, 1, 0, 0]] # 6"
   ]
  },
  {
   "cell_type": "markdown",
   "metadata": {},
   "source": [
    "## 1. Convert the adjacency matrix to an adjacency list. The adjacent lists need to be in alphabetical order.\n",
    "We are assuming that *in alphabetical order* means that the nodes are sorted by numbers, which gives this adjacency list:\n",
    "\n",
    "| Node | Neighbors |\n",
    "|------|-----------|\n",
    "| 1    | 3         |\n",
    "| 2    | 1, 2, 3   |\n",
    "| 3    | 2, 5      |\n",
    "| 4    | 2, 5, 6   |\n",
    "| 5    | 3, 4      |\n",
    "| 6    | 4         |\n"
   ]
  },
  {
   "cell_type": "markdown",
   "metadata": {},
   "source": [
    "## 2. Draw the adjacency matrix in graph form.\n",
    "We use networkx to draw the nodes and edges."
   ]
  },
  {
   "cell_type": "code",
   "execution_count": 98,
   "metadata": {},
   "outputs": [
    {
     "data": {
      "image/png": "[encoded data removed]",
      "text/plain": [
       "<Figure size 640x480 with 1 Axes>"
      ]
     },
     "metadata": {},
     "output_type": "display_data"
    }
   ],
   "source": [
    "G = nx.DiGraph()\n",
    "# Node 1\n",
    "G.add_edge(1, 3)\n",
    "# Node 2\n",
    "G.add_edge(2, 1)\n",
    "G.add_edge(2, 2)\n",
    "G.add_edge(2, 3)\n",
    "# Node 3\n",
    "G.add_edge(3, 2)\n",
    "G.add_edge(3, 5)\n",
    "# Node 4\n",
    "G.add_edge(4, 2)\n",
    "G.add_edge(4, 5)\n",
    "G.add_edge(4, 6)\n",
    "# Node 5\n",
    "G.add_edge(5, 3)\n",
    "G.add_edge(5, 4)\n",
    "# Node 6\n",
    "G.add_edge(6, 4)\n",
    "\n",
    "nx.draw(G, with_labels=True, pos={1: (0, -1), 2: (1, -0.5), 3: (1, -1.5), 4: (2, -0.5), 5: (2, -1), 6: (3, -1)})"
   ]
  },
  {
   "cell_type": "code",
   "execution_count": null,
   "metadata": {},
   "outputs": [],
   "source": []
  },
  {
   "cell_type": "markdown",
   "metadata": {},
   "source": [
    "## Make an adjacent list out of the graph in Figure 1 which also needs to be in alphabetical order.\n",
    "\n",
    "\n",
    "| Node | Neighbors |\n",
    "|------|-----------|\n",
    "| A    | B         |\n",
    "| B    | C, D      |\n",
    "| C    | E, F      |\n",
    "| D    | E, F      |\n",
    "| E    | G, F      |\n",
    "| F    | B, G, H, J|\n",
    "| G    |           |\n",
    "| H    | I         |\n",
    "| I    |           |\n",
    "| J    | I         |"
   ]
  },
  {
   "cell_type": "markdown",
   "metadata": {},
   "source": [
    "# 2. Problem Cable Network"
   ]
  },
  {
   "cell_type": "code",
   "execution_count": null,
   "metadata": {},
   "outputs": [],
   "source": []
  },
  {
   "cell_type": "markdown",
   "metadata": {},
   "source": [
    "# 3. Problem Finding Champion"
   ]
  },
  {
   "cell_type": "code",
   "execution_count": null,
   "metadata": {},
   "outputs": [],
   "source": []
  },
  {
   "cell_type": "markdown",
   "metadata": {},
   "source": [
    "# 4. Problem Shortest Path"
   ]
  },
  {
   "cell_type": "code",
   "execution_count": null,
   "metadata": {},
   "outputs": [],
   "source": []
  },
  {
   "cell_type": "markdown",
   "metadata": {},
   "source": [
    "# 5. Problem Maximum Flow\n",
    "\n",
    "Correction\n",
    "\n",
    "For problem 5 b) it is sufficient to only show some steps and the final result. There is no need to make the report very long.\n",
    "If you implement the algorithm and use it to solve the problem than this solution is also valid. In your report you should show the main part of the implementation and a reference to your github repo, if you have one.\n"
   ]
  },
  {
   "cell_type": "code",
   "execution_count": null,
   "metadata": {},
   "outputs": [],
   "source": []
  }
 ],
 "metadata": {
  "kernelspec": {
   "display_name": "ml",
   "language": "python",
   "name": "python3"
  },
  "language_info": {
   "codemirror_mode": {
    "name": "ipython",
    "version": 3
   },
   "file_extension": ".py",
   "mimetype": "text/x-python",
   "name": "python",
   "nbconvert_exporter": "python",
   "pygments_lexer": "ipython3",
   "version": "3.12.2"
  }
 },
 "nbformat": 4,
 "nbformat_minor": 2
}
